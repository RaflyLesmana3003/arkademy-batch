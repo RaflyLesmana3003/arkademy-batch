{
  "nbformat": 4,
  "nbformat_minor": 0,
  "metadata": {
    "colab": {
      "name": "arkademia bootcamp test",
      "provenance": [],
      "collapsed_sections": []
    },
    "kernelspec": {
      "name": "python3",
      "display_name": "Python 3"
    }
  },
  "cells": [
    {
      "cell_type": "markdown",
      "metadata": {
        "id": "j4w8pVQYNeI8",
        "colab_type": "text"
      },
      "source": [
        "# **soal 1**\n",
        "\n",
        "Buatlah sebuah method/function yang menerima dua parameter yakni String (untuk nama) dan angka (untuk umur) lalu me-return biodata asli Anda, dengan ketentuan sebagai berikut:\n",
        "name (String, diambil dari parameter pertama)\n",
        "age (Number, diambil dari parameter ke dua)\n",
        "address (String)\n",
        "hobbies (Array)\n",
        "is_married (Boolean)\n",
        "list_school (Array of Object) with key name, year_in, year_out, and major (if any, if no set “null” )\n",
        "skills (Array of Obj) with key skill_name and level (beginner, advanced, expert)\n",
        "interest_in_coding (Boolean)\n",
        "    Return value harus berformat JSON dan sesuai ketentuan di atas.\n",
        "Pada readme sebutkan kegunaan JSON pada REST API.\n",
        "Berikut adalah contoh dari JSON format: https://api.bukalapak.com/v2/products/f3vi.json\n"
      ]
    },
    {
      "cell_type": "code",
      "metadata": {
        "id": "GzeTAnyUU3qh",
        "colab_type": "code",
        "outputId": "b9846581-1621-45c2-b51b-96aadb2e5c25",
        "colab": {
          "base_uri": "https://localhost:8080/",
          "height": 54
        }
      },
      "source": [
        "import json\n",
        "\n",
        "# function to return bio\n",
        "def biodata(name, age):\n",
        "\n",
        "  #data biodata\n",
        "  data = {\n",
        "  \"name\": name,\n",
        "  \"age\": age,\n",
        "  \"address\": \"gadang gang 1/27 malang\",\n",
        "  \"hobbies\": [\n",
        "              'self learning',\n",
        "              'a little bit of gaming',\n",
        "              'code'\n",
        "              ],\n",
        "  \"is_married\": 0,\n",
        "  \"list_school\": {\n",
        "                  \"smp\": {\n",
        "                      \"name\": \"pondok pesantren alhayatul islamiyah\",\n",
        "                      \"year_in\": 2014,\n",
        "                      \"year_out\": 2016,\n",
        "                      \"major\": None\n",
        "                      },\n",
        "                  \"smk\": {\n",
        "                      \"name\": \"smkn 4 malang\",\n",
        "                      \"year_in\": 2016,\n",
        "                      \"year_out\": 2019,\n",
        "                      \"major\": None\n",
        "                      },\n",
        "                  },\n",
        "  \"skills\": [\n",
        "             { \"name\": \"web developer\",\n",
        "              \"level\": \"advanced\"\n",
        "              },\n",
        "             { \"name\": \"content creator\",\n",
        "              \"level\": \"beginner\"\n",
        "              },\n",
        "             { \"name\": \"machine learning\",\n",
        "              \"level\": \"beginner\"\n",
        "              },\n",
        "             ],\n",
        "  \"interest_in_coding\" : 1            \n",
        "  }\n",
        "\n",
        "  # diubah dalam bentuk json\n",
        "  biodata = json.dumps(data)\n",
        "  return(biodata)\n",
        "\n",
        "# memanggil function biodata()\n",
        "biodata(\"rafly lesmana\", 18) "
      ],
      "execution_count": 0,
      "outputs": [
        {
          "output_type": "execute_result",
          "data": {
            "text/plain": [
              "'{\"name\": \"rafly lesmana\", \"age\": 18, \"address\": \"gadang gang 1/27 malang\", \"hobbies\": [\"self learning\", \"a little bit of gaming\", \"code\"], \"is_married\": 0, \"list_school\": {\"smp\": {\"name\": \"pondok pesantren alhayatul islamiyah\", \"year_in\": 2014, \"year_out\": 2016, \"major\": null}, \"smk\": {\"name\": \"smkn 4 malang\", \"year_in\": 2016, \"year_out\": 2019, \"major\": null}}, \"skills\": [{\"name\": \"web developer\", \"level\": \"advanced\"}, {\"name\": \"content creator\", \"level\": \"beginner\"}, {\"name\": \"machine learning\", \"level\": \"beginner\"}], \"interest_in_coding\": 1}'"
            ]
          },
          "metadata": {
            "tags": []
          },
          "execution_count": 29
        }
      ]
    },
    {
      "cell_type": "markdown",
      "metadata": {
        "id": "8lnFNa63Nf30",
        "colab_type": "text"
      },
      "source": [
        "# **soal 2**\n",
        "\n",
        "Pada sebuah form, terdapat 2 buah field yaitu: username dan password. Buatlah method/function untuk memvalidasi field-field tersebut, dengan requirement sebagai berikut:\n",
        "\n",
        "●       Disarankan menggunakan REGEX\n",
        "\n",
        "●       Format username: hanya boleh huruf kecil dengan panjang 5-7 karakter\n",
        "\n",
        "●       Format password: merupakan kombinasi huruf kecil, huruf besar, angka dan simbol \"@\" dengan panjang tepat 9 karakter\n",
        "\n",
        "Clue:\n",
        "Peserta hanya diminta membuat function validasi, tidak perlu membuat form HTML.\n",
        "\n",
        "Contoh:\n",
        "usernameCheck(\"diandra\")\n",
        "    return true\n",
        "usernameCheck(\"Ebi\")\n",
        "    return false\n",
        "passwordCheck(\"Kint4m@ni\")\n",
        "    return true\n",
        "passwordCheck(\"p@ssW0rd!\")\n",
        "    return false\n"
      ]
    },
    {
      "cell_type": "code",
      "metadata": {
        "id": "O9XCsT_sc7BY",
        "colab_type": "code",
        "outputId": "4f735ca5-7b74-44b4-9d6c-3bf1c4886163",
        "colab": {
          "base_uri": "https://localhost:8080/",
          "height": 34
        }
      },
      "source": [
        "import re\n",
        "\n",
        "def usernameCheck(username):\n",
        "  x = re.findall(\"^(?=.*[a-z])(?!.*[A-Z]).{5,7}$\", username)\n",
        "  if(x):\n",
        "    return True\n",
        "  return False\n",
        "  \n",
        "def passwordCheck(pasword):\n",
        "  x = re.findall(\"^([a-zA-Z0-9@]{9})$\", pasword)\n",
        "  if(x):\n",
        "    return True\n",
        "  return False\n",
        "  \n",
        "\n",
        "#call funtion usernameCheck true\n",
        "print(usernameCheck(\"diandra\"))\n",
        "\n",
        "#call funtion usernameCheck false\n",
        "#print(usernameCheck(\"Ebi\"))\n",
        "\n",
        "#call funtion passwordCheck true\n",
        "print(passwordCheck(\"Kint4m@ni\"))\n",
        "\n",
        "#call funtion passwordCheck false\n",
        "#print(passwordCheck(\"p@ssW0rd!\"))"
      ],
      "execution_count": 81,
      "outputs": [
        {
          "output_type": "execute_result",
          "data": {
            "text/plain": [
              "True"
            ]
          },
          "metadata": {
            "tags": []
          },
          "execution_count": 81
        }
      ]
    },
    {
      "cell_type": "markdown",
      "metadata": {
        "id": "1N6B40RRNwvl",
        "colab_type": "text"
      },
      "source": [
        "# **soal 3**\n",
        "\n",
        "Buatlah sebuah fungsi bernama \"triangle\" yang menerima satu parameter bertipe data angka dan harus positif. Fungsi ini mencetak karakter # dengan banyak baris sejumlah parameter yang dimasukan. Lengkapnya bisa dilihat di contoh berikut.\n",
        "    \n",
        "Contoh:\n",
        "\n",
        "triangle(1)\n",
        "\n",
        "    #\n",
        "\n",
        "\n",
        "triangle(5)\n",
        "\n",
        "    #\n",
        "    ##\n",
        "    ###\n",
        "    ####\n",
        "    #####\n",
        "\n",
        "triangle(\"tiga\")\n",
        "    \"Paramemeter harus angka dan positif!\"\n"
      ]
    },
    {
      "cell_type": "code",
      "metadata": {
        "id": "bBSsnnhwpzJC",
        "colab_type": "code",
        "colab": {
          "base_uri": "https://localhost:8080/",
          "height": 139
        },
        "outputId": "ada2698b-79ce-4ba5-bd46-218fdcc08c80"
      },
      "source": [
        "def triangle(angka):\n",
        "  if(isinstance(angka, int) != True or angka < 0):\n",
        "    return \"parameter harus angka dan positif!\"\n",
        "\n",
        "  # rows\n",
        "  for i in range(0, angka): \n",
        "    \n",
        "      # columns \n",
        "      for j in range(0, i+1): \n",
        "        \n",
        "          # print stars \n",
        "          print(\"# \",end=\"\") \n",
        "      \n",
        "      # new row\n",
        "      print(\"\\r\") \n",
        "\n",
        "\n",
        "triangle(7)\n",
        "\n",
        "#false\n",
        "#triangle(-2)\n",
        "\n",
        "#false\n",
        "# triangle(\"p\")"
      ],
      "execution_count": 105,
      "outputs": [
        {
          "output_type": "stream",
          "text": [
            "# \r\n",
            "# # \r\n",
            "# # # \r\n",
            "# # # # \r\n",
            "# # # # # \r\n",
            "# # # # # # \r\n",
            "# # # # # # # \r\n"
          ],
          "name": "stdout"
        }
      ]
    },
    {
      "cell_type": "markdown",
      "metadata": {
        "id": "Wj6l4Am9ODL-",
        "colab_type": "text"
      },
      "source": [
        "# **soal 4**\n",
        "\n",
        "Buatlah sebuah fungsi yang menerima satu parameter bertipe data string yang merupakan sebuah kalimat, untuk menentukan kata mana yang paling panjang dalam kalimat tersebut, dengan kondisi jika ada dua atau lebih kata yang panjangnya sama maka yang akan dikeluarkan adalah kata pertama. Abaikan penulisan simbol. Data yang dikembalikan adalah kata terpanjang.\n",
        "\n",
        "\n",
        "Contoh:\n",
        "\n",
        "longest(\"Halo Arkademian!\")\n",
        "\n",
        "    Output: Arkademian\n",
        "\n",
        "longest(\"Seluruh Arkademian mengucapkan selamat \n",
        "Ramadhan!\")\n",
        "\n",
        "    Output: mengucapkan\n",
        "\n",
        "longest(\"Baju ini sangat bagus sekali!\")\n",
        "    Output: sangat\n"
      ]
    },
    {
      "cell_type": "code",
      "metadata": {
        "id": "_Op8sVZ4sZF0",
        "colab_type": "code",
        "colab": {
          "base_uri": "https://localhost:8080/",
          "height": 34
        },
        "outputId": "a025f936-a114-4900-fed6-7f45d87a4730"
      },
      "source": [
        "import re\n",
        "\n",
        "def longest(word_list):  \n",
        "    longest_word = '' \n",
        "    # get word from array \n",
        "    for word in word_list: \n",
        "      # check if word have a symbols  \n",
        "          word = re.sub('[!@#$%^&*()]', '', word)\n",
        "          if len(word) > len(longest_word):\n",
        "            longest_word = word\n",
        "    print(longest_word)  \n",
        "\n",
        "# input string and convert to array\n",
        "words = \"Baju ini sangat bagus sekali!\" \n",
        "word_list = words.split()  \n",
        "# call function\n",
        "longest(word_list)  "
      ],
      "execution_count": 119,
      "outputs": [
        {
          "output_type": "stream",
          "text": [
            "sangat\n"
          ],
          "name": "stdout"
        }
      ]
    },
    {
      "cell_type": "markdown",
      "metadata": {
        "id": "22vBZ_gDONqC",
        "colab_type": "text"
      },
      "source": [
        "# **soal 5**\n",
        "\n",
        "Buatlah sebuah fungsi/method untuk membersihkan dan mengelompokan input angka menjadi bagian-bagian yang dipisah dengan garis tengah “-”, dan setiap bagian terdiri dari 3 angka. Jika bagian terakhir hanya terdiri dari 1 angka, maka bisa mengambil/memindahkan angka di baris sebelumnya sehingga angka di bagian terakhir dan bagian selanjutnya menjadi 2-2. Bersihkan angka dari spasi dan garis tengah yang tidak sesuai. Input yang diterima adalah string bukan hanya angka!\n",
        "\n",
        "\n",
        "Contoh Input: groupNumber(‘’993141 -1 1323 14-232”)\n",
        "\n",
        "Contoh Output Yang Salah X: 993-141-113-231-423-2 \n",
        "\n",
        "Contoh Output Benar: 993-141-113-231-42-32\n"
      ]
    },
    {
      "cell_type": "code",
      "metadata": {
        "id": "42iEKruXxTVT",
        "colab_type": "code",
        "colab": {
          "base_uri": "https://localhost:8080/",
          "height": 34
        },
        "outputId": "8543ced1-82e1-4ab6-936c-8ddb344912cd"
      },
      "source": [
        "# %pip install numpy\n",
        "# %pip install math\n",
        "import numpy as np\n",
        "import math \n",
        "\n",
        "# split string to array\n",
        "def split(word): \n",
        "    return [char for char in word]  \n",
        "\n",
        "def groupNumber(string):\n",
        "    result = None\n",
        "    #reject symbols and space\n",
        "    number = re.sub('[-!@#$%^&*()\\s]', '', string)\n",
        "    #math equation with logaritm\n",
        "    equation = int(len(number)*math.log10(3)-1)\n",
        "    #split and distribute array\n",
        "    arraynumber = np.array_split(split(number), equation)\n",
        "\n",
        "    # joining array\n",
        "    a = 0\n",
        "    for i in arraynumber:\n",
        "      if result == None:\n",
        "        results = \"\".join(arraynumber[a]) \n",
        "        result = results\n",
        "      else:\n",
        "        results = \"\".join(arraynumber[a]) \n",
        "        result += \"-\"+results\n",
        "      a = a + 1\n",
        "    print(result)\n",
        "    \n",
        "\n",
        "   \n",
        "\n",
        "groupNumber(\"993141 -1 1323 14-232\")\n"
      ],
      "execution_count": 256,
      "outputs": [
        {
          "output_type": "stream",
          "text": [
            "993-141-113-231-42-32\n"
          ],
          "name": "stdout"
        }
      ]
    }
  ]
}